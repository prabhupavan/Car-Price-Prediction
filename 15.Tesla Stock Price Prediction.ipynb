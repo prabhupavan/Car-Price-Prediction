{
 "cells": [
  {
   "cell_type": "code",
   "execution_count": 8,
   "source": [
    "import numpy as np\r\n",
    "import pandas as pd\r\n",
    "import matplotlib.pyplot as plt"
   ],
   "outputs": [],
   "metadata": {}
  },
  {
   "cell_type": "code",
   "execution_count": 9,
   "source": [
    "data = pd.read_csv('TSLA.csv')\r\n",
    "data.head()"
   ],
   "outputs": [
    {
     "output_type": "execute_result",
     "data": {
      "text/html": [
       "<div>\n",
       "<style scoped>\n",
       "    .dataframe tbody tr th:only-of-type {\n",
       "        vertical-align: middle;\n",
       "    }\n",
       "\n",
       "    .dataframe tbody tr th {\n",
       "        vertical-align: top;\n",
       "    }\n",
       "\n",
       "    .dataframe thead th {\n",
       "        text-align: right;\n",
       "    }\n",
       "</style>\n",
       "<table border=\"1\" class=\"dataframe\">\n",
       "  <thead>\n",
       "    <tr style=\"text-align: right;\">\n",
       "      <th></th>\n",
       "      <th>Date</th>\n",
       "      <th>Open</th>\n",
       "      <th>High</th>\n",
       "      <th>Low</th>\n",
       "      <th>Close</th>\n",
       "      <th>Adj Close</th>\n",
       "      <th>Volume</th>\n",
       "    </tr>\n",
       "  </thead>\n",
       "  <tbody>\n",
       "    <tr>\n",
       "      <th>0</th>\n",
       "      <td>2020-09-24</td>\n",
       "      <td>363.799988</td>\n",
       "      <td>399.500000</td>\n",
       "      <td>351.299988</td>\n",
       "      <td>387.790009</td>\n",
       "      <td>387.790009</td>\n",
       "      <td>96561100</td>\n",
       "    </tr>\n",
       "    <tr>\n",
       "      <th>1</th>\n",
       "      <td>2020-09-25</td>\n",
       "      <td>393.470001</td>\n",
       "      <td>408.730011</td>\n",
       "      <td>391.299988</td>\n",
       "      <td>407.339996</td>\n",
       "      <td>407.339996</td>\n",
       "      <td>67208500</td>\n",
       "    </tr>\n",
       "    <tr>\n",
       "      <th>2</th>\n",
       "      <td>2020-09-28</td>\n",
       "      <td>424.619995</td>\n",
       "      <td>428.079987</td>\n",
       "      <td>415.549988</td>\n",
       "      <td>421.200012</td>\n",
       "      <td>421.200012</td>\n",
       "      <td>49719600</td>\n",
       "    </tr>\n",
       "    <tr>\n",
       "      <th>3</th>\n",
       "      <td>2020-09-29</td>\n",
       "      <td>416.000000</td>\n",
       "      <td>428.500000</td>\n",
       "      <td>411.600006</td>\n",
       "      <td>419.070007</td>\n",
       "      <td>419.070007</td>\n",
       "      <td>50219300</td>\n",
       "    </tr>\n",
       "    <tr>\n",
       "      <th>4</th>\n",
       "      <td>2020-09-30</td>\n",
       "      <td>421.320007</td>\n",
       "      <td>433.929993</td>\n",
       "      <td>420.470001</td>\n",
       "      <td>429.010010</td>\n",
       "      <td>429.010010</td>\n",
       "      <td>48145600</td>\n",
       "    </tr>\n",
       "  </tbody>\n",
       "</table>\n",
       "</div>"
      ],
      "text/plain": [
       "         Date        Open        High         Low       Close   Adj Close  \\\n",
       "0  2020-09-24  363.799988  399.500000  351.299988  387.790009  387.790009   \n",
       "1  2020-09-25  393.470001  408.730011  391.299988  407.339996  407.339996   \n",
       "2  2020-09-28  424.619995  428.079987  415.549988  421.200012  421.200012   \n",
       "3  2020-09-29  416.000000  428.500000  411.600006  419.070007  419.070007   \n",
       "4  2020-09-30  421.320007  433.929993  420.470001  429.010010  429.010010   \n",
       "\n",
       "     Volume  \n",
       "0  96561100  \n",
       "1  67208500  \n",
       "2  49719600  \n",
       "3  50219300  \n",
       "4  48145600  "
      ]
     },
     "metadata": {},
     "execution_count": 9
    }
   ],
   "metadata": {}
  },
  {
   "cell_type": "code",
   "execution_count": 10,
   "source": [
    "# Let's visualize the 'Close' column in the dataset whicch represents close prices of each day:\r\n",
    "\r\n",
    "close = data['Close']\r\n",
    "ax = close.plot(title='Tesla')\r\n",
    "ax.set_xlabel('Date')\r\n",
    "ax.set_ylabel('Close')\r\n",
    "plt.show()"
   ],
   "outputs": [
    {
     "output_type": "display_data",
     "data": {
      "image/png": "[encoded data removed]",
      "text/plain": [
       "<Figure size 432x288 with 1 Axes>"
      ]
     },
     "metadata": {
      "needs_background": "light"
     }
    }
   ],
   "metadata": {}
  },
  {
   "cell_type": "code",
   "execution_count": 11,
   "source": [
    "# We only need 2 columns from the dataset(Date and Close).\r\n",
    "# Let's create  new DataFrame with only these two columns.\r\n",
    "\r\n",
    "data['Date'] = pd.to_datetime(data['Date'], infer_datetime_format=True)\r\n",
    "data = data[['Date', 'Close']]\r\n"
   ],
   "outputs": [],
   "metadata": {}
  }
 ],
 "metadata": {
  "orig_nbformat": 4,
  "language_info": {
   "name": "python",
   "version": "3.9.1",
   "mimetype": "text/x-python",
   "codemirror_mode": {
    "name": "ipython",
    "version": 3
   },
   "pygments_lexer": "ipython3",
   "nbconvert_exporter": "python",
   "file_extension": ".py"
  },
  "kernelspec": {
   "name": "python3",
   "display_name": "Python 3.9.1 64-bit (system)"
  },
  "interpreter": {
   "hash": "91511b98dffabb385a5cf53b56c63e942b170aab3737f634b092829ffe3dee6c"
  }
 },
 "nbformat": 4,
 "nbformat_minor": 2
}